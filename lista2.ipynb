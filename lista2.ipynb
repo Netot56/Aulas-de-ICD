{
 "cells": [
  {
   "cell_type": "code",
   "execution_count": 150,
   "metadata": {},
   "outputs": [],
   "source": [
    "import random\n",
    "\n",
    "def generate_password(n_chars, use_numbers=True, use_special_chars=True):\n",
    "    password = []\n",
    "    i=0\n",
    "    while i != len(range (n_chars)):\n",
    "        x=random.randrange(33, 126)\n",
    "        if x in range(48, 58) and use_numbers == True:\n",
    "            password.append(\"%.c\" % x)\n",
    "            i += 1\n",
    "\n",
    "\n",
    "        elif (x in range(65, 91)) or (x in range(97, 122)):\n",
    "            password.append(\"%.c\" % x)\n",
    "            i += 1\n",
    "\n",
    "        else:\n",
    "            if x in range(48, 58) or x in range(65, 91) :\n",
    "                continue\n",
    "            if use_special_chars==True :\n",
    "                password.append(\"%.c\" % x)\n",
    "                i+=1\n",
    "    separator = ''\n",
    "    result = [separator.join(password)]\n",
    "\n",
    "    return result"
   ]
  },
  {
   "cell_type": "code",
   "execution_count": 151,
   "metadata": {},
   "outputs": [
    {
     "name": "stdout",
     "output_type": "stream",
     "text": [
      "['24!*-k}}#-']\n"
     ]
    }
   ],
   "source": [
    "print(generate_password(10))"
   ]
  },
  {
   "cell_type": "code",
   "execution_count": 152,
   "metadata": {},
   "outputs": [
    {
     "name": "stdout",
     "output_type": "stream",
     "text": [
      "['2z/\\'/RC\"y@']\n"
     ]
    }
   ],
   "source": [
    "print(generate_password(10))\n"
   ]
  },
  {
   "cell_type": "code",
   "execution_count": 153,
   "metadata": {},
   "outputs": [
    {
     "name": "stdout",
     "output_type": "stream",
     "text": [
      "['>F=UN;h`**']\n"
     ]
    }
   ],
   "source": [
    "print(generate_password(10, use_numbers=False))\n"
   ]
  },
  {
   "cell_type": "code",
   "execution_count": 154,
   "metadata": {},
   "outputs": [
    {
     "name": "stdout",
     "output_type": "stream",
     "text": [
      "['wkXmHFaheL']\n"
     ]
    }
   ],
   "source": [
    "print(generate_password(10, use_numbers=False, use_special_chars=False))\n"
   ]
  },
  {
   "cell_type": "code",
   "execution_count": null,
   "metadata": {},
   "outputs": [],
   "source": []
  }
 ],
 "metadata": {
  "kernelspec": {
   "display_name": "Python 3",
   "language": "python",
   "name": "python3"
  },
  "language_info": {
   "codemirror_mode": {
    "name": "ipython",
    "version": 3
   },
   "file_extension": ".py",
   "mimetype": "text/x-python",
   "name": "python",
   "nbconvert_exporter": "python",
   "pygments_lexer": "ipython3",
   "version": "3.7.3"
  }
 },
 "nbformat": 4,
 "nbformat_minor": 2
}
